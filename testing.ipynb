{
 "cells": [
  {
   "cell_type": "code",
   "execution_count": 32,
   "id": "durable-lunch",
   "metadata": {},
   "outputs": [
    {
     "name": "stdout",
     "output_type": "stream",
     "text": [
      "CPU times: user 22.3 ms, sys: 16.9 ms, total: 39.1 ms\n",
      "Wall time: 39.5 ms\n"
     ]
    }
   ],
   "source": [
    "%%time\n",
    "import sys\n",
    "sys.path.insert(0, '/Users/kuangzheng/Programming/refactoring/codes/')\n",
    "\n",
    "import os\n",
    "import json\n",
    "import warnings\n",
    "import pprint\n",
    "\n",
    "\n",
    "%reload_ext autoreload\n",
    "%autoreload\n",
    "%autoreload 2\n",
    "%config Completer.use_jedi = False"
   ]
  },
  {
   "cell_type": "code",
   "execution_count": 36,
   "id": "touched-software",
   "metadata": {},
   "outputs": [],
   "source": [
    "import numpy as np\n",
    "import scipy.io\n",
    "from numpy.random import choice, laplace\n",
    "from scipy.special import lambertw\n",
    "from scipy.stats import laplace\n",
    "from codes.kse_test import kse_test\n"
   ]
  },
  {
   "cell_type": "code",
   "execution_count": 77,
   "id": "african-chase",
   "metadata": {},
   "outputs": [
    {
     "data": {
      "text/plain": [
       "array([60000,   495,  1976,  1610,   230,  3365,   825,   731,  1567,\n",
       "         651,  1048,   588,   726,   729,   749,  1110,   694,   532,\n",
       "         995,   229,  1528,   730,   469,   737,   619,   350,   521,\n",
       "         238,   493,   348,   554,   272,   313,   173,   217,   231,\n",
       "         881,    71,   156,   174,   271,    78,   168,    83,    83,\n",
       "         161,    80,    80,    79,    64,   722,    19,    20,    10,\n",
       "           6,    21,    10,     8,    11,     6,    16,    11,     9,\n",
       "           7,     7,     3,     3,     3,     4,     1,     8,     6,\n",
       "           3,     2,     2,     4,     1,     0,     2,     0,     2,\n",
       "           0,     0,     0,     0,     0,     0,     0,     0,     0,\n",
       "           0,     0,     0,     0,     0,     0,     0,     0,     0,\n",
       "           1])"
      ]
     },
     "execution_count": 77,
     "metadata": {},
     "output_type": "execute_result"
    }
   ],
   "source": [
    "C"
   ]
  },
  {
   "cell_type": "code",
   "execution_count": 82,
   "id": "informed-administrator",
   "metadata": {},
   "outputs": [
    {
     "name": "stdout",
     "output_type": "stream",
     "text": [
      "(100, 1)\n"
     ]
    }
   ],
   "source": [
    "dataset4 = scipy.io.loadmat('4.mat')['dataset4']\n",
    "sizeofD = 100\n",
    "dataset2 = dataset4[:, :3]\n",
    "S, _ = np.histogram(dataset2, bins=sizeofD)\n",
    "eps = np.linspace(0.1, 2, 4)\n",
    "B = S.reshape(-1, 1)\n",
    "C = B[:sizeofD]\n",
    "Output = kse_test(C)\n",
    "\n",
    "pp = 1. / (Output ** 5)\n",
    "pp = pp.reshape(-1)\n",
    "pp /= pp.sum()\n",
    "NN = 2 ** (15 * Output)\n",
    "px = np.arange(1, sizeofD+1)\n",
    "\n",
    "gamma = 0.5\n",
    "rho = np.exp(lambertw(-gamma / (2 * np.exp(0.5)), k=-1) + 0.5)\n",
    "rho = np.real(rho)\n",
    "m = np.log(1 / rho) / (2 * (gamma - rho) ** 2)\n",
    "k = m * (1 - gamma + rho + np.sqrt(np.log(1 / rho) / (2 * m)))\n",
    "m = int(float(np.ceil(m)))\n",
    "k = int(float(np.ceil(k)))\n"
   ]
  },
  {
   "cell_type": "code",
   "execution_count": 83,
   "id": "governmental-hierarchy",
   "metadata": {},
   "outputs": [],
   "source": [
    "noiseunif = kse_test(unif)"
   ]
  },
  {
   "cell_type": "code",
   "execution_count": 85,
   "id": "prompt-torture",
   "metadata": {},
   "outputs": [
    {
     "ename": "ZeroDivisionError",
     "evalue": "division by zero",
     "output_type": "error",
     "traceback": [
      "\u001b[0;31m---------------------------------------------------------------------------\u001b[0m",
      "\u001b[0;31mZeroDivisionError\u001b[0m                         Traceback (most recent call last)",
      "\u001b[0;32m<ipython-input-85-213ee09cd62b>\u001b[0m in \u001b[0;36m<module>\u001b[0;34m\u001b[0m\n\u001b[1;32m     58\u001b[0m         \u001b[0mfp\u001b[0m \u001b[0;34m=\u001b[0m \u001b[0mn\u001b[0m \u001b[0;34m-\u001b[0m \u001b[0mtn\u001b[0m\u001b[0;34m\u001b[0m\u001b[0;34m\u001b[0m\u001b[0m\n\u001b[1;32m     59\u001b[0m         \u001b[0mfn\u001b[0m \u001b[0;34m=\u001b[0m \u001b[0mp\u001b[0m \u001b[0;34m-\u001b[0m \u001b[0mtp\u001b[0m\u001b[0;34m\u001b[0m\u001b[0;34m\u001b[0m\u001b[0m\n\u001b[0;32m---> 60\u001b[0;31m         \u001b[0mtp_rate\u001b[0m \u001b[0;34m=\u001b[0m \u001b[0mtp\u001b[0m \u001b[0;34m/\u001b[0m \u001b[0mp\u001b[0m\u001b[0;34m\u001b[0m\u001b[0;34m\u001b[0m\u001b[0m\n\u001b[0m\u001b[1;32m     61\u001b[0m         \u001b[0mtn_rate\u001b[0m \u001b[0;34m=\u001b[0m \u001b[0mtn\u001b[0m \u001b[0;34m/\u001b[0m \u001b[0mn\u001b[0m\u001b[0;34m\u001b[0m\u001b[0;34m\u001b[0m\u001b[0m\n\u001b[1;32m     62\u001b[0m         \u001b[0maccuracy\u001b[0m \u001b[0;34m=\u001b[0m \u001b[0;34m(\u001b[0m\u001b[0mtp\u001b[0m \u001b[0;34m+\u001b[0m \u001b[0mtn\u001b[0m\u001b[0;34m)\u001b[0m \u001b[0;34m/\u001b[0m \u001b[0mN\u001b[0m\u001b[0;34m\u001b[0m\u001b[0;34m\u001b[0m\u001b[0m\n",
      "\u001b[0;31mZeroDivisionError\u001b[0m: division by zero"
     ]
    }
   ],
   "source": [
    "EVAL = np.zeros((4, 7))\n",
    "EVAL1 = np.zeros((4, 7))\n",
    "\n",
    "for rr in range(4):\n",
    "    for j in range(1):\n",
    "        C = B[:sizeofD].reshape(-1)\n",
    "        GS = np.sort(np.random.choice(C, size=m, replace=False))\n",
    "        Sensunif = GS[k-1]\n",
    "        SS = np.sort(np.random.choice(px, size=m, replace=True, p=pp))\n",
    "        SS = NN[np.floor(SS).astype(int)]\n",
    "        SS = np.sort(SS)\n",
    "        Sensanom = SS[k-1]\n",
    "\n",
    "        unif = laplace.rvs(loc=0, scale=Sensunif/(eps[rr]), size=sizeofD) + C\n",
    "        noiseanom = laplace.rvs(loc=0, scale=Sensanom/(eps[rr]), size=sizeofD) + NN\n",
    "\n",
    "        noiseunif = kse_test(unif)\n",
    "        noiseanom = kse_test(noiseanom)\n",
    "\n",
    "        Index = np.zeros((sizeofD, 2))\n",
    "        Index[:, 0] = np.arange(1, sizeofD+1)\n",
    "\n",
    "        for i in range(sizeofD):\n",
    "            if Output[i] > 0.7:\n",
    "                Index[i, 1] = 1\n",
    "\n",
    "        ACTUAL = Index\n",
    "        Origindex = np.where(ACTUAL[:, 1] == 1)[0]\n",
    "\n",
    "        Index = np.zeros((sizeofD, 2))\n",
    "        Index[:, 0] = np.arange(1, sizeofD+1)\n",
    "\n",
    "        for i in range(sizeofD):\n",
    "            if noiseunif[i] > 0.7:\n",
    "                Index[i, 1] = 1\n",
    "\n",
    "        Uniformm = Index\n",
    "        Pertindex = np.where(Uniformm[:, 1] == 1)[0]\n",
    "\n",
    "        Index = np.zeros((sizeofD, 2))\n",
    "        Index[:, 0] = np.arange(1, sizeofD+1)\n",
    "\n",
    "        for i in range(sizeofD):\n",
    "            if noiseanom[i] > 0.7:\n",
    "                Index[i, 1] = 1\n",
    "\n",
    "        Anomm = Index\n",
    "        Pertindex1 = np.where(Anomm[:, 1] == 1)[0]\n",
    "        IND1 = Anomm\n",
    "        IND = Uniformm\n",
    "\n",
    "        C = len(set(Origindex) | set(Pertindex))\n",
    "        p = len(Origindex)\n",
    "        n = sizeofD - p\n",
    "        N = p + n\n",
    "        tp = sum(ACTUAL[Origindex, 1] == IND[Origindex, 1])\n",
    "        tn = N - C\n",
    "        fp = n - tn\n",
    "        fn = p - tp\n",
    "        tp_rate = tp / p\n",
    "        tn_rate = tn / n\n",
    "        accuracy = (tp + tn) / N\n",
    "        sensitivity = tp_rate\n",
    "        specificity = tn_rate\n",
    "        precision = tp / (tp + fp)\n",
    "        recall = sensitivity\n",
    "        f_measure = 2 * ((precision * recall) / (precision + recall))\n",
    "        gmean = np.sqrt(tp_rate * tn)\n",
    "        EVAL1[rr, :] += np.array([accuracy, tp, specificity, precision, recall, f_measure, gmean])\n",
    "    EVAL[rr, :] = EVAL[rr, :] / j\n",
    "    EVAL1[rr, :] = EVAL1[rr, :] / j\n",
    "\n"
   ]
  },
  {
   "cell_type": "code",
   "execution_count": 89,
   "id": "verbal-thunder",
   "metadata": {},
   "outputs": [
    {
     "data": {
      "text/plain": [
       "array([1.05263158e-02, 1.06046306e-02, 1.05263158e-02, 1.05263158e-02,\n",
       "       1.14631775e-02, 1.05263158e-02, 1.05263158e-02, 1.18433935e-02,\n",
       "       1.05263158e-02, 1.05263160e-02, 1.05263158e-02, 1.05263159e-02,\n",
       "       1.05373582e-02, 1.11213761e-02, 1.05263159e-02, 1.05263158e-02,\n",
       "       8.26606243e-11, 1.05263161e-02, 1.05263158e-02, 1.09141995e-02,\n",
       "       1.05263158e-02, 1.14646509e-02, 1.05263158e-02, 1.05267425e-02,\n",
       "       1.05263158e-02, 1.06046306e-02, 1.05263165e-02, 2.08408652e-07,\n",
       "       1.05263158e-02, 1.07264663e-02, 1.05263158e-02, 1.05263164e-02,\n",
       "       1.05263159e-02, 1.08360666e-02, 1.05263165e-02, 1.06048187e-02,\n",
       "       1.05263158e-02, 1.05265775e-02, 1.05270624e-02, 1.05270624e-02,\n",
       "       1.08358815e-02, 1.24784310e-02, 1.05271521e-02, 2.11122400e-02,\n",
       "       2.11539684e-02, 1.05272658e-02, 2.20411764e-02, 2.14730943e-02,\n",
       "       1.19371341e-02, 1.05264177e-02, 1.05291678e-02, 1.09242617e-02,\n",
       "       1.11463703e-02, 3.07548338e-02, 6.24012233e-02, 1.12003129e-02,\n",
       "       2.60415952e-02, 4.63492199e-02, 2.44172760e-02, 4.75340238e-02,\n",
       "       1.07850440e-02, 2.55821327e-02, 1.68632948e-02, 3.35037932e-02,\n",
       "       3.72655280e-02, 6.59996814e-02, 8.70534378e-02, 6.52245975e-02,\n",
       "       4.67143976e-02, 6.69588537e-02, 3.18023733e-02, 4.72294742e-02,\n",
       "       8.72802929e-02, 9.09640084e-02, 7.68873621e-02, 6.22305692e-02,\n",
       "       6.41206220e-02, 2.45712488e-01, 7.70965730e-02, 2.25034166e-01,\n",
       "       8.68418195e-02, 2.19828257e-01, 2.27731572e-01, 2.26625976e-01,\n",
       "       2.36236627e-01, 2.06634082e-01, 2.29313827e-01, 2.28737594e-01,\n",
       "       2.39263914e-01, 2.18132968e-01, 2.37210713e-01, 2.25173995e-01,\n",
       "       1.96810770e-01, 2.39530577e-01, 2.17842213e-01, 2.27488352e-01,\n",
       "       2.29187236e-01, 2.57760046e-01, 2.15682833e-01, 7.71081857e-02])"
      ]
     },
     "execution_count": 89,
     "metadata": {},
     "output_type": "execute_result"
    }
   ],
   "source": [
    "Output"
   ]
  },
  {
   "cell_type": "code",
   "execution_count": 71,
   "id": "closed-blues",
   "metadata": {},
   "outputs": [
    {
     "data": {
      "text/plain": [
       "array([1.])"
      ]
     },
     "execution_count": 71,
     "metadata": {},
     "output_type": "execute_result"
    }
   ],
   "source": [
    "noiseunif"
   ]
  }
 ],
 "metadata": {
  "kernelspec": {
   "display_name": "Python 3",
   "language": "python",
   "name": "python3"
  },
  "language_info": {
   "codemirror_mode": {
    "name": "ipython",
    "version": 3
   },
   "file_extension": ".py",
   "mimetype": "text/x-python",
   "name": "python",
   "nbconvert_exporter": "python",
   "pygments_lexer": "ipython3",
   "version": "3.8.11"
  }
 },
 "nbformat": 4,
 "nbformat_minor": 5
}
