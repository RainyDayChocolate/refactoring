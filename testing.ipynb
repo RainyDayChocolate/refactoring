{
 "cells": [
  {
   "cell_type": "code",
   "execution_count": 1,
   "metadata": {},
   "outputs": [
    {
     "name": "stdout",
     "output_type": "stream",
     "text": [
      "CPU times: user 15.7 ms, sys: 13.6 ms, total: 29.3 ms\n",
      "Wall time: 28.7 ms\n"
     ]
    }
   ],
   "source": [
    "%%time\n",
    "import sys\n",
    "sys.path.insert(0, '/Users/shuyafeng/PycharmProjects/xiaozaizi/codes/')\n",
    "\n",
    "import os\n",
    "import json\n",
    "import warnings\n",
    "import pprint\n",
    "\n",
    "\n",
    "%reload_ext autoreload\n",
    "%autoreload\n",
    "%autoreload 2\n",
    "%config Completer.use_jedi = False"
   ]
  },
  {
   "cell_type": "code",
   "execution_count": 4,
   "metadata": {},
   "outputs": [],
   "source": [
    "import numpy as np\n",
    "import scipy.io\n",
    "from numpy.random import choice, laplace\n",
    "from scipy.special import lambertw\n",
    "from scipy.stats import laplace\n",
    "from codes.kse_test import kse_test\n"
   ]
  },
  {
   "cell_type": "code",
   "execution_count": 52,
   "metadata": {},
   "outputs": [],
   "source": [
    "#dataset4 = scipy.io.loadmat('/Users/shuyafeng/PycharmProjects/xiaozaizi/server1.mat')['dataset4']\n",
    "dataset4 = np.array(pd.read_csv('cv_server_data.csv'))\n",
    "sizeofD = 100\n",
    "dataset2 = dataset4[:, :1]\n",
    "S, _ = np.histogram(dataset2, bins=sizeofD)\n",
    "eps = np.linspace(0.1, 10, 4)\n",
    "B = S.reshape(-1, 1)\n",
    "C = B[:sizeofD]\n",
    "Output = kse_test(C)\n",
    "\n",
    "pp = 1. / (Output ** 5)\n",
    "pp = pp.reshape(-1)\n",
    "pp /= pp.sum()\n",
    "NN = 2 ** (15 * Output)\n",
    "px = np.arange(1, sizeofD+1)\n",
    "\n",
    "gamma = 0.5\n",
    "rho = np.exp(lambertw(-gamma / (2 * np.exp(0.5)), k=-1) + 0.5)\n",
    "rho = np.real(rho)\n",
    "m = np.log(1 / rho) / (2 * (gamma - rho) ** 2)\n",
    "k = m * (1 - gamma + rho + np.sqrt(np.log(1 / rho) / (2 * m)))\n",
    "m = int(float(np.ceil(m)))\n",
    "k = int(float(np.ceil(k)))\n"
   ]
  },
  {
   "cell_type": "code",
   "execution_count": 53,
   "metadata": {},
   "outputs": [
    {
     "data": {
      "text/plain": [
       "array([0.93684211, 0.21883657, 0.22770083, 0.21052632, 0.2100831 ,\n",
       "       0.23789474, 0.23091413, 0.2233795 , 0.22027701, 0.21972299,\n",
       "       0.18703601, 0.23800554, 0.24110803, 0.23135734, 0.21307479,\n",
       "       0.23157895, 0.20232687, 0.23024931, 0.24166205, 0.21052632,\n",
       "       0.22825485, 0.19390582, 0.23534626, 0.21706371, 0.22770083,\n",
       "       0.22692521, 0.21307479, 0.23047091, 0.21252078, 0.96753463,\n",
       "       0.21872576, 0.17772853, 0.23146814, 0.22880886, 0.23612188,\n",
       "       0.24210526, 0.19523546, 0.23091413, 0.22814404, 0.18648199,\n",
       "       0.96188366, 0.95722992, 0.97894737, 0.97806094, 1.        ,\n",
       "       0.9731856 , 0.95213296, 0.98814404, 0.92698061, 0.94770083,\n",
       "       0.98947368, 0.93927978, 0.93096953, 0.95124654, 0.99933518,\n",
       "       0.92022161, 0.97861496, 0.23091413, 0.23944598, 0.94027701,\n",
       "       0.24210526, 0.2265928 , 0.18127424, 0.23102493, 0.21296399,\n",
       "       0.21972299, 0.53207756, 0.91878116, 0.2398892 , 0.21052632,\n",
       "       0.22072022, 0.20764543, 0.2134072 , 0.21806094, 0.22105263,\n",
       "       0.21163435, 0.19833795, 0.21706371, 0.23157895, 0.21817175,\n",
       "       0.20288089, 0.22105263, 0.21750693, 0.21019391, 0.23800554,\n",
       "       0.2201662 , 0.23922438, 0.24055402, 0.19612188, 0.22891967,\n",
       "       0.23157895, 0.22914127, 0.22880886, 0.21041551, 0.22692521,\n",
       "       0.22891967, 0.2200554 , 0.2301385 , 0.19833795, 0.89362881])"
      ]
     },
     "execution_count": 53,
     "metadata": {},
     "output_type": "execute_result"
    }
   ],
   "source": [
    "Output"
   ]
  },
  {
   "cell_type": "code",
   "execution_count": 57,
   "metadata": {},
   "outputs": [],
   "source": [
    "EVAL = np.zeros((4, 7))\n",
    "EVAL1 = np.zeros((4, 7))\n",
    "\n",
    "for rr in range(4):\n",
    "    for j in range(1):\n",
    "        C = B[:sizeofD].reshape(-1)\n",
    "        GS = np.sort(np.random.choice(C, size=m, replace=False))\n",
    "        Sensunif = GS[k-1]\n",
    "        SS = np.sort(np.random.choice(px, size=m, replace=True, p=pp))\n",
    "        SS = NN[np.floor(SS).astype(int)]\n",
    "        SS = np.sort(SS)\n",
    "        Sensanom = SS[k-1]\n",
    "\n",
    "        unif = laplace.rvs(loc=0, scale=Sensunif/(eps[rr]), size=sizeofD) + C\n",
    "        noiseanom = laplace.rvs(loc=0, scale=Sensanom/(eps[rr]), size=sizeofD) + NN\n",
    "\n",
    "        noiseunif = kse_test(unif)\n",
    "        noiseanom = kse_test(noiseanom)\n",
    "\n",
    "        Index = np.zeros((sizeofD, 2))\n",
    "        Index[:, 0] = np.arange(1, sizeofD+1)\n",
    "\n",
    "        for i in range(sizeofD):\n",
    "            if Output[i] > 0.85:\n",
    "                Index[i, 1] = 1\n",
    "\n",
    "        ACTUAL = Index\n",
    "        Origindex = np.where(ACTUAL[:, 1] == 1)[0]\n",
    "\n",
    "        Index = np.zeros((sizeofD, 2))\n",
    "        Index[:, 0] = np.arange(1, sizeofD+1)\n",
    "\n",
    "        for i in range(sizeofD):\n",
    "            if noiseunif[i] > 0.85:\n",
    "                Index[i, 1] = 1\n",
    "\n",
    "        Uniformm = Index\n",
    "        Pertindex = np.where(Uniformm[:, 1] == 1)[0]\n",
    "\n",
    "        Index = np.zeros((sizeofD, 2))\n",
    "        Index[:, 0] = np.arange(1, sizeofD+1)\n",
    "\n",
    "        for i in range(sizeofD):\n",
    "            if noiseanom[i] > 0.85:\n",
    "                Index[i, 1] = 1\n",
    "\n",
    "        Anomm = Index\n",
    "        Pertindex1 = np.where(Anomm[:, 1] == 1)[0]\n",
    "        IND1 = Anomm\n",
    "        IND = Uniformm\n",
    "\n",
    "        C = len(set(Origindex) | set(Pertindex))\n",
    "        p = len(Origindex)\n",
    "        n = sizeofD - p\n",
    "        N = p + n\n",
    "        tp = sum(ACTUAL[Origindex, 1] == IND[Origindex, 1])\n",
    "        tn = N - C\n",
    "        fp = n - tn\n",
    "        fn = p - tp\n",
    "        tp_rate = tp / p\n",
    "        tn_rate = tn / n\n",
    "        accuracy = (tp + tn) / N\n",
    "        sensitivity = tp_rate\n",
    "        specificity = tn_rate\n",
    "        precision = tp / (tp + fp)\n",
    "        recall = sensitivity\n",
    "        f_measure = 2 * ((precision * recall) / (precision + recall))\n",
    "        gmean = np.sqrt(tp_rate * tn)\n",
    "        EVAL1[rr, :] += np.array([accuracy, tp, specificity, precision, recall, f_measure, gmean])\n",
    "\n"
   ]
  },
  {
   "cell_type": "code",
   "execution_count": 58,
   "metadata": {},
   "outputs": [],
   "source": [
    "import pandas as pd"
   ]
  },
  {
   "cell_type": "code",
   "execution_count": null,
   "metadata": {},
   "outputs": [],
   "source": []
  },
  {
   "cell_type": "code",
   "execution_count": 59,
   "metadata": {},
   "outputs": [
    {
     "data": {
      "text/html": [
       "<div>\n",
       "<style scoped>\n",
       "    .dataframe tbody tr th:only-of-type {\n",
       "        vertical-align: middle;\n",
       "    }\n",
       "\n",
       "    .dataframe tbody tr th {\n",
       "        vertical-align: top;\n",
       "    }\n",
       "\n",
       "    .dataframe thead th {\n",
       "        text-align: right;\n",
       "    }\n",
       "</style>\n",
       "<table border=\"1\" class=\"dataframe\">\n",
       "  <thead>\n",
       "    <tr style=\"text-align: right;\">\n",
       "      <th></th>\n",
       "      <th>accuracy</th>\n",
       "      <th>tp</th>\n",
       "      <th>specificity</th>\n",
       "      <th>precision</th>\n",
       "      <th>recall</th>\n",
       "      <th>f_measure</th>\n",
       "      <th>gmean</th>\n",
       "    </tr>\n",
       "  </thead>\n",
       "  <tbody>\n",
       "    <tr>\n",
       "      <th>0</th>\n",
       "      <td>0.76</td>\n",
       "      <td>9.0</td>\n",
       "      <td>0.858974</td>\n",
       "      <td>0.450000</td>\n",
       "      <td>0.409091</td>\n",
       "      <td>0.428571</td>\n",
       "      <td>5.235369</td>\n",
       "    </tr>\n",
       "    <tr>\n",
       "      <th>1</th>\n",
       "      <td>0.74</td>\n",
       "      <td>22.0</td>\n",
       "      <td>0.666667</td>\n",
       "      <td>0.458333</td>\n",
       "      <td>1.000000</td>\n",
       "      <td>0.628571</td>\n",
       "      <td>7.211103</td>\n",
       "    </tr>\n",
       "    <tr>\n",
       "      <th>2</th>\n",
       "      <td>0.84</td>\n",
       "      <td>21.0</td>\n",
       "      <td>0.807692</td>\n",
       "      <td>0.583333</td>\n",
       "      <td>0.954545</td>\n",
       "      <td>0.724138</td>\n",
       "      <td>7.754764</td>\n",
       "    </tr>\n",
       "    <tr>\n",
       "      <th>3</th>\n",
       "      <td>0.81</td>\n",
       "      <td>17.0</td>\n",
       "      <td>0.820513</td>\n",
       "      <td>0.548387</td>\n",
       "      <td>0.772727</td>\n",
       "      <td>0.641509</td>\n",
       "      <td>7.032393</td>\n",
       "    </tr>\n",
       "  </tbody>\n",
       "</table>\n",
       "</div>"
      ],
      "text/plain": [
       "   accuracy    tp  specificity  precision    recall  f_measure     gmean\n",
       "0      0.76   9.0     0.858974   0.450000  0.409091   0.428571  5.235369\n",
       "1      0.74  22.0     0.666667   0.458333  1.000000   0.628571  7.211103\n",
       "2      0.84  21.0     0.807692   0.583333  0.954545   0.724138  7.754764\n",
       "3      0.81  17.0     0.820513   0.548387  0.772727   0.641509  7.032393"
      ]
     },
     "execution_count": 59,
     "metadata": {},
     "output_type": "execute_result"
    }
   ],
   "source": [
    "pd.DataFrame(EVAL1, columns=[\"accuracy\", \"tp\", \"specificity\", \"precision\", \"recall\", \"f_measure\", \"gmean\"])"
   ]
  },
  {
   "cell_type": "code",
   "execution_count": null,
   "metadata": {},
   "outputs": [],
   "source": []
  }
 ],
 "metadata": {
  "kernelspec": {
   "display_name": "Python 3",
   "language": "python",
   "name": "python3"
  },
  "language_info": {
   "codemirror_mode": {
    "name": "ipython",
    "version": 3
   },
   "file_extension": ".py",
   "mimetype": "text/x-python",
   "name": "python",
   "nbconvert_exporter": "python",
   "pygments_lexer": "ipython3",
   "version": "3.8.5"
  }
 },
 "nbformat": 4,
 "nbformat_minor": 5
}
