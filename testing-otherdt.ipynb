{
 "cells": [
  {
   "cell_type": "code",
   "execution_count": 1,
   "metadata": {},
   "outputs": [
    {
     "name": "stdout",
     "output_type": "stream",
     "text": [
      "CPU times: user 18.9 ms, sys: 16 ms, total: 34.9 ms\n",
      "Wall time: 33.5 ms\n"
     ]
    }
   ],
   "source": [
    "%%time\n",
    "import sys\n",
    "sys.path.insert(0, '/Users/shuyafeng/PycharmProjects/xiaozaizi/codes/')\n",
    "\n",
    "import os\n",
    "import json\n",
    "import warnings\n",
    "import pprint\n",
    "\n",
    "\n",
    "%reload_ext autoreload\n",
    "%autoreload\n",
    "%autoreload 2\n",
    "%config Completer.use_jedi = False"
   ]
  },
  {
   "cell_type": "code",
   "execution_count": 6,
   "metadata": {},
   "outputs": [],
   "source": [
    "import numpy as np\n",
    "import scipy.io\n",
    "from numpy.random import choice, laplace\n",
    "from scipy.special import lambertw\n",
    "from scipy.stats import laplace\n",
    "from codes.kse_test import kse_test\n",
    "import pandas as pd"
   ]
  },
  {
   "cell_type": "code",
   "execution_count": 7,
   "metadata": {},
   "outputs": [],
   "source": [
    "#dataset4 = scipy.io.loadmat('/Users/shuyafeng/PycharmProjects/xiaozaizi/server1.mat')['dataset4']\n",
    "dataset4 = np.array(pd.read_csv('tr_server_data.csv'))\n",
    "sizeofD = 100\n",
    "dataset2 = dataset4[:, :1]\n",
    "S, _ = np.histogram(dataset2, bins=sizeofD)\n",
    "eps = np.linspace(0.1, 10, 4)\n",
    "B = S.reshape(-1, 1)\n",
    "C = B[:sizeofD]\n",
    "Output = kse_test(C)\n",
    "\n",
    "pp = 1. / (Output ** 5)\n",
    "pp = pp.reshape(-1)\n",
    "pp /= pp.sum()\n",
    "NN = 2 ** (15 * Output)\n",
    "px = np.arange(1, sizeofD+1)\n",
    "\n",
    "gamma = 0.5\n",
    "rho = np.exp(lambertw(-gamma / (2 * np.exp(0.5)), k=-1) + 0.5)\n",
    "rho = np.real(rho)\n",
    "m = np.log(1 / rho) / (2 * (gamma - rho) ** 2)\n",
    "k = m * (1 - gamma + rho + np.sqrt(np.log(1 / rho) / (2 * m)))\n",
    "m = int(float(np.ceil(m)))\n",
    "k = int(float(np.ceil(k)))\n"
   ]
  },
  {
   "cell_type": "code",
   "execution_count": 8,
   "metadata": {},
   "outputs": [
    {
     "data": {
      "text/plain": [
       "array([0.87756233, 0.31168975, 0.31534626, 0.31313019, 0.31279778,\n",
       "       0.32487535, 0.32775623, 0.30969529, 0.32354571, 0.29396122,\n",
       "       0.33617729, 0.32099723, 0.31390582, 0.33573407, 0.30105263,\n",
       "       0.32587258, 0.3099169 , 0.27168975, 0.2633795 , 0.31024931,\n",
       "       0.32199446, 0.29484765, 0.33595568, 0.34083102, 0.29440443,\n",
       "       0.32      , 0.33939058, 0.29030471, 0.33373961, 0.29628809,\n",
       "       0.32531856, 0.32022161, 0.96354571, 0.29185596, 0.54570637,\n",
       "       0.32864266, 0.31900277, 0.80288089, 0.90481994, 0.56831025,\n",
       "       0.95235457, 0.97307479, 0.94393352, 0.86903047, 0.97274238,\n",
       "       0.9100277 , 0.91689751, 0.97418283, 0.98781163, 0.96299169,\n",
       "       0.98947368, 0.90094183, 0.94227147, 0.94371191, 0.95168975,\n",
       "       0.9468144 , 0.97894737, 0.93263158, 0.90592798, 0.98814404,\n",
       "       0.98836565, 0.91412742, 0.26249307, 0.90393352, 0.29296399,\n",
       "       0.33240997, 0.27722992, 0.34371191, 0.32587258, 0.32709141,\n",
       "       0.29130194, 0.32188366, 0.90526316, 0.26648199, 0.31168975,\n",
       "       0.33418283, 0.34703601, 0.28055402, 0.29706371, 0.87246537,\n",
       "       0.33185596, 0.31867036, 0.32432133, 0.33595568, 0.28277008,\n",
       "       0.30249307, 0.31623269, 0.32232687, 0.32132964, 0.33085873,\n",
       "       0.34703601, 0.85861496, 0.33606648, 0.30249307, 0.30603878,\n",
       "       0.31091413, 0.32620499, 0.33684211, 0.3365097 , 0.62770083])"
      ]
     },
     "execution_count": 8,
     "metadata": {},
     "output_type": "execute_result"
    }
   ],
   "source": [
    "Output"
   ]
  },
  {
   "cell_type": "code",
   "execution_count": 13,
   "metadata": {},
   "outputs": [],
   "source": [
    "EVAL = np.zeros((4, 7))\n",
    "EVAL1 = np.zeros((4, 7))\n",
    "\n",
    "for rr in range(4):\n",
    "    for j in range(1):\n",
    "        C = B[:sizeofD].reshape(-1)\n",
    "        GS = np.sort(np.random.choice(C, size=m, replace=False))\n",
    "        Sensunif = GS[k-1]\n",
    "        SS = np.sort(np.random.choice(px, size=m, replace=True, p=pp))\n",
    "        SS = NN[np.floor(SS).astype(int)]\n",
    "        SS = np.sort(SS)\n",
    "        Sensanom = SS[k-1]\n",
    "\n",
    "        unif = laplace.rvs(loc=0, scale=Sensunif/(eps[rr]), size=sizeofD) + C\n",
    "        noiseanom = laplace.rvs(loc=0, scale=Sensanom/(eps[rr]), size=sizeofD) + NN\n",
    "\n",
    "        noiseunif = kse_test(unif)\n",
    "        noiseanom = kse_test(noiseanom)\n",
    "\n",
    "        Index = np.zeros((sizeofD, 2))\n",
    "        Index[:, 0] = np.arange(1, sizeofD+1)\n",
    "\n",
    "        for i in range(sizeofD):\n",
    "            if Output[i] > 0.85:\n",
    "                Index[i, 1] = 1\n",
    "\n",
    "        ACTUAL = Index\n",
    "        Origindex = np.where(ACTUAL[:, 1] == 1)[0]\n",
    "\n",
    "        Index = np.zeros((sizeofD, 2))\n",
    "        Index[:, 0] = np.arange(1, sizeofD+1)\n",
    "\n",
    "        for i in range(sizeofD):\n",
    "            if noiseunif[i] > 0.85:\n",
    "                Index[i, 1] = 1\n",
    "\n",
    "        Uniformm = Index\n",
    "        Pertindex = np.where(Uniformm[:, 1] == 1)[0]\n",
    "\n",
    "        Index = np.zeros((sizeofD, 2))\n",
    "        Index[:, 0] = np.arange(1, sizeofD+1)\n",
    "\n",
    "        for i in range(sizeofD):\n",
    "            if noiseanom[i] > 0.85:\n",
    "                Index[i, 1] = 1\n",
    "\n",
    "        Anomm = Index\n",
    "        Pertindex1 = np.where(Anomm[:, 1] == 1)[0]\n",
    "        IND1 = Anomm\n",
    "        IND = Uniformm\n",
    "\n",
    "        C = len(set(Origindex) | set(Pertindex))\n",
    "        p = len(Origindex)\n",
    "        n = sizeofD - p\n",
    "        N = p + n\n",
    "        tp = sum(ACTUAL[Origindex, 1] == IND[Origindex, 1])\n",
    "        tn = N - C\n",
    "        fp = n - tn\n",
    "        fn = p - tp\n",
    "        tp_rate = tp / p\n",
    "        tn_rate = tn / n\n",
    "        accuracy = (tp + tn) / N\n",
    "        sensitivity = tp_rate\n",
    "        specificity = tn_rate\n",
    "        precision = tp / (tp + fp)\n",
    "        recall = sensitivity\n",
    "        f_measure = 2 * ((precision * recall) / (precision + recall))\n",
    "        gmean = np.sqrt(tp_rate * tn)\n",
    "        EVAL1[rr, :] += np.array([accuracy, tp, specificity, precision, recall, f_measure, gmean])\n",
    "\n",
    "        \n"
   ]
  },
  {
   "cell_type": "code",
   "execution_count": 14,
   "metadata": {},
   "outputs": [],
   "source": [
    "import pandas as pd"
   ]
  },
  {
   "cell_type": "code",
   "execution_count": 15,
   "metadata": {},
   "outputs": [
    {
     "data": {
      "text/html": [
       "<div>\n",
       "<style scoped>\n",
       "    .dataframe tbody tr th:only-of-type {\n",
       "        vertical-align: middle;\n",
       "    }\n",
       "\n",
       "    .dataframe tbody tr th {\n",
       "        vertical-align: top;\n",
       "    }\n",
       "\n",
       "    .dataframe thead th {\n",
       "        text-align: right;\n",
       "    }\n",
       "</style>\n",
       "<table border=\"1\" class=\"dataframe\">\n",
       "  <thead>\n",
       "    <tr style=\"text-align: right;\">\n",
       "      <th></th>\n",
       "      <th>accuracy</th>\n",
       "      <th>tp</th>\n",
       "      <th>specificity</th>\n",
       "      <th>precision</th>\n",
       "      <th>recall</th>\n",
       "      <th>f_measure</th>\n",
       "      <th>gmean</th>\n",
       "    </tr>\n",
       "  </thead>\n",
       "  <tbody>\n",
       "    <tr>\n",
       "      <th>0</th>\n",
       "      <td>0.94</td>\n",
       "      <td>25.0</td>\n",
       "      <td>0.971831</td>\n",
       "      <td>0.925926</td>\n",
       "      <td>0.862069</td>\n",
       "      <td>0.892857</td>\n",
       "      <td>7.712507</td>\n",
       "    </tr>\n",
       "    <tr>\n",
       "      <th>1</th>\n",
       "      <td>0.63</td>\n",
       "      <td>5.0</td>\n",
       "      <td>0.816901</td>\n",
       "      <td>0.277778</td>\n",
       "      <td>0.172414</td>\n",
       "      <td>0.212766</td>\n",
       "      <td>3.162278</td>\n",
       "    </tr>\n",
       "    <tr>\n",
       "      <th>2</th>\n",
       "      <td>0.70</td>\n",
       "      <td>15.0</td>\n",
       "      <td>0.774648</td>\n",
       "      <td>0.483871</td>\n",
       "      <td>0.517241</td>\n",
       "      <td>0.500000</td>\n",
       "      <td>5.333693</td>\n",
       "    </tr>\n",
       "    <tr>\n",
       "      <th>3</th>\n",
       "      <td>0.64</td>\n",
       "      <td>25.0</td>\n",
       "      <td>0.549296</td>\n",
       "      <td>0.438596</td>\n",
       "      <td>0.862069</td>\n",
       "      <td>0.581395</td>\n",
       "      <td>5.798335</td>\n",
       "    </tr>\n",
       "  </tbody>\n",
       "</table>\n",
       "</div>"
      ],
      "text/plain": [
       "   accuracy    tp  specificity  precision    recall  f_measure     gmean\n",
       "0      0.94  25.0     0.971831   0.925926  0.862069   0.892857  7.712507\n",
       "1      0.63   5.0     0.816901   0.277778  0.172414   0.212766  3.162278\n",
       "2      0.70  15.0     0.774648   0.483871  0.517241   0.500000  5.333693\n",
       "3      0.64  25.0     0.549296   0.438596  0.862069   0.581395  5.798335"
      ]
     },
     "execution_count": 15,
     "metadata": {},
     "output_type": "execute_result"
    }
   ],
   "source": [
    "pd.DataFrame(EVAL1, columns=[\"accuracy\", \"tp\", \"specificity\", \"precision\", \"recall\", \"f_measure\", \"gmean\"])"
   ]
  },
  {
   "cell_type": "code",
   "execution_count": null,
   "metadata": {},
   "outputs": [],
   "source": []
  }
 ],
 "metadata": {
  "kernelspec": {
   "display_name": "Python 3",
   "language": "python",
   "name": "python3"
  },
  "language_info": {
   "codemirror_mode": {
    "name": "ipython",
    "version": 3
   },
   "file_extension": ".py",
   "mimetype": "text/x-python",
   "name": "python",
   "nbconvert_exporter": "python",
   "pygments_lexer": "ipython3",
   "version": "3.8.5"
  }
 },
 "nbformat": 4,
 "nbformat_minor": 5
}
